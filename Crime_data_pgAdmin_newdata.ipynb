{
  "nbformat": 4,
  "nbformat_minor": 0,
  "metadata": {
    "colab": {
      "name": "Crime_data_pgAdmin_newdata.ipynb",
      "provenance": [],
      "collapsed_sections": []
    },
    "kernelspec": {
      "name": "python3",
      "display_name": "Python 3"
    },
    "language_info": {
      "name": "python"
    }
  },
  "cells": [
    {
      "cell_type": "code",
      "execution_count": 12,
      "metadata": {
        "colab": {
          "base_uri": "https://localhost:8080/"
        },
        "id": "2xPcO8-MQXVW",
        "outputId": "f6696b5c-bc75-4745-88b5-917ebb7787cb"
      },
      "outputs": [
        {
          "output_type": "stream",
          "name": "stdout",
          "text": [
            "Hit:1 https://cloud.r-project.org/bin/linux/ubuntu bionic-cran40/ InRelease\n",
            "Hit:2 http://security.ubuntu.com/ubuntu bionic-security InRelease\n",
            "Hit:3 http://ppa.launchpad.net/c2d4u.team/c2d4u4.0+/ubuntu bionic InRelease\n",
            "Hit:4 http://archive.ubuntu.com/ubuntu bionic InRelease\n",
            "Ign:5 https://developer.download.nvidia.com/compute/cuda/repos/ubuntu1804/x86_64  InRelease\n",
            "Hit:6 http://archive.ubuntu.com/ubuntu bionic-updates InRelease\n",
            "Ign:7 https://developer.download.nvidia.com/compute/machine-learning/repos/ubuntu1804/x86_64  InRelease\n",
            "Hit:8 https://developer.download.nvidia.com/compute/cuda/repos/ubuntu1804/x86_64  Release\n",
            "Hit:9 https://developer.download.nvidia.com/compute/machine-learning/repos/ubuntu1804/x86_64  Release\n",
            "Hit:10 http://ppa.launchpad.net/cran/libgit2/ubuntu bionic InRelease\n",
            "Hit:11 http://archive.ubuntu.com/ubuntu bionic-backports InRelease\n",
            "Hit:12 http://ppa.launchpad.net/deadsnakes/ppa/ubuntu bionic InRelease\n",
            "Hit:15 http://ppa.launchpad.net/graphics-drivers/ppa/ubuntu bionic InRelease\n",
            "Reading package lists... Done\n"
          ]
        }
      ],
      "source": [
        "import os\n",
        "# Find the latest version of spark 3.0  from http://www.apache.org/dist/spark/ and enter as the spark version\n",
        "# For example:\n",
        "# spark_version = 'spark-3.0.3'\n",
        "spark_version = 'spark-3.0.3'\n",
        "os.environ['SPARK_VERSION']=spark_version\n",
        "\n",
        "# Install Spark and Java\n",
        "!apt-get update\n",
        "!apt-get install openjdk-11-jdk-headless -qq > /dev/null\n",
        "!wget -q http://www.apache.org/dist/spark/$SPARK_VERSION/$SPARK_VERSION-bin-hadoop2.7.tgz\n",
        "!tar xf $SPARK_VERSION-bin-hadoop2.7.tgz\n",
        "!pip install -q findspark\n",
        "\n",
        "# Set Environment Variables\n",
        "import os\n",
        "os.environ[\"JAVA_HOME\"] = \"/usr/lib/jvm/java-11-openjdk-amd64\"\n",
        "os.environ[\"SPARK_HOME\"] = f\"/content/{spark_version}-bin-hadoop2.7\"\n",
        "\n",
        "# Start a SparkSession\n",
        "import findspark\n",
        "findspark.init()"
      ]
    },
    {
      "cell_type": "code",
      "source": [
        "# Download the Postgres driver that will allow Spark to interact with Postgres.\n",
        "!wget https://jdbc.postgresql.org/download/postgresql-42.2.16.jar"
      ],
      "metadata": {
        "colab": {
          "base_uri": "https://localhost:8080/"
        },
        "id": "C9r2D4zxQvaf",
        "outputId": "2560464f-03ab-47f9-f5db-313c9470dbcb"
      },
      "execution_count": 13,
      "outputs": [
        {
          "output_type": "stream",
          "name": "stdout",
          "text": [
            "--2022-01-05 03:52:45--  https://jdbc.postgresql.org/download/postgresql-42.2.16.jar\n",
            "Resolving jdbc.postgresql.org (jdbc.postgresql.org)... 72.32.157.228, 2001:4800:3e1:1::228\n",
            "Connecting to jdbc.postgresql.org (jdbc.postgresql.org)|72.32.157.228|:443... connected.\n",
            "HTTP request sent, awaiting response... 200 OK\n",
            "Length: 1002883 (979K) [application/java-archive]\n",
            "Saving to: ‘postgresql-42.2.16.jar.1’\n",
            "\n",
            "postgresql-42.2.16. 100%[===================>] 979.38K  1.18MB/s    in 0.8s    \n",
            "\n",
            "2022-01-05 03:52:47 (1.18 MB/s) - ‘postgresql-42.2.16.jar.1’ saved [1002883/1002883]\n",
            "\n"
          ]
        }
      ]
    },
    {
      "cell_type": "code",
      "source": [
        "from pyspark.sql import SparkSession\n",
        "spark = SparkSession.builder.appName(\"Crime\").config(\"spark.driver.extraClassPath\",\"/content/postgresql-42.2.16.jar\").getOrCreate()"
      ],
      "metadata": {
        "id": "xZoqERz7Tl2r"
      },
      "execution_count": 14,
      "outputs": []
    },
    {
      "cell_type": "code",
      "source": [
        "# Read in data from S3 Buckets\n",
        "from pyspark import SparkFiles\n",
        "url =\"https://datacrime-bucket.s3.us-east-2.amazonaws.com/texas_df_agencies.csv\"\n",
        "spark.sparkContext.addFile(url)\n",
        "texas_df_agencies_df = spark.read.csv(SparkFiles.get(\"texas_df_agencies.csv\"), sep=\",\", header=True, inferSchema=True)"
      ],
      "metadata": {
        "id": "2fR-sRLFTwKX"
      },
      "execution_count": 15,
      "outputs": []
    },
    {
      "cell_type": "code",
      "source": [
        "# Show DataFrame\n",
        "texas_df_agencies_df.show()"
      ],
      "metadata": {
        "colab": {
          "base_uri": "https://localhost:8080/"
        },
        "id": "hOqt6aHxUT-I",
        "outputId": "d1b04ad0-9ca7-46fb-d758-4dfb99d1dc9a"
      },
      "execution_count": 16,
      "outputs": [
        {
          "output_type": "stream",
          "name": "stdout",
          "text": [
            "+---------+---------------+----------------+----------+-------------------+------------------+--------------------+\n",
            "|AGENCY_ID|PUB_AGENCY_NAME|AGENCY_TYPE_NAME|POPULATION|POPULATION_GROUP_ID|SUBURBAN_AREA_FLAG|         COUNTY_NAME|\n",
            "+---------+---------------+----------------+----------+-------------------+------------------+--------------------+\n",
            "|    18753|      Palestine|            City|     17625|                  9|                 N|            ANDERSON|\n",
            "|    18754|      Frankston|            City|      1164|                 11|                 N| HENDERSON; ANDERSON|\n",
            "|    18757|        Andrews|            City|     14487|                  9|                 N|             ANDREWS|\n",
            "|    18759|         Diboll|            City|      5182|                 10|                 N|            ANGELINA|\n",
            "|    18760|     Huntington|            City|      2110|                 11|                 N|            ANGELINA|\n",
            "|    18761|         Lufkin|            City|     35007|                  8|                 N|            ANGELINA|\n",
            "|    18765|   Aransas Pass|            City|      8414|                 10|                 Y|NUECES; ARANSAS; ...|\n",
            "|    18766|       Rockport|            City|     10672|                  9|                 N|             ARANSAS|\n",
            "|    18768|    Archer City|            City|      1687|                 11|                 Y|              ARCHER|\n",
            "|    18770|      Armstrong|          County|      1880|                 22|                 Y|           ARMSTRONG|\n",
            "|    18771|       Atascosa|          County|     30189|                 20|                 Y|            ATASCOSA|\n",
            "|    18772|          Lytle|            City|      3135|                 10|                 Y|BEXAR; MEDINA; AT...|\n",
            "|    18773|     Pleasanton|            City|     11006|                  9|                 Y|            ATASCOSA|\n",
            "|    18777|      Bellville|            City|      4233|                 10|                 Y|              AUSTIN|\n",
            "|    18778|          Sealy|            City|      6484|                 10|                 Y|              AUSTIN|\n",
            "|    18779|         Wallis|            City|      1309|                 11|                 Y|              AUSTIN|\n",
            "|    18781|         Bailey|          County|      1955|                 16|                 N|              BAILEY|\n",
            "|    18782|       Muleshoe|            City|      5005|                 10|                 N|              BAILEY|\n",
            "|    18783|        Bandera|          County|     23336|                 21|                 Y|             BANDERA|\n",
            "|    18785|        Bastrop|            City|      9479|                 10|                 Y|             BASTROP|\n",
            "+---------+---------------+----------------+----------+-------------------+------------------+--------------------+\n",
            "only showing top 20 rows\n",
            "\n"
          ]
        }
      ]
    },
    {
      "cell_type": "code",
      "source": [
        "url =\"https://datacrime-bucket.s3.us-east-2.amazonaws.com/texas_df_crimes.csv\"\n",
        "spark.sparkContext.addFile(url)\n",
        "texas_df_crimes_df = spark.read.csv(SparkFiles.get(\"texas_df_crimes.csv\"), sep=\",\", header=True, inferSchema=True)\n",
        "\n",
        "# Show DataFrame\n",
        "texas_df_crimes_df.show()"
      ],
      "metadata": {
        "colab": {
          "base_uri": "https://localhost:8080/"
        },
        "id": "OJYCsenKUcII",
        "outputId": "90e90356-24cf-4b17-d7bc-cbad0a17b0bb"
      },
      "execution_count": 17,
      "outputs": [
        {
          "output_type": "stream",
          "name": "stdout",
          "text": [
            "+----------+-----------+---------------+-----------+---------+---------+-------------+-------------+-----------------+-----------+----------------+-----------+-----------+--------------+------------------+-----------+------------+-----------+----------------+---------+--------------+--------------+------------+-------------+------------+-----------------+--------------+-------------+---------------------+\n",
            "|OFFENSE_ID|INCIDENT_ID|OFFENSE_TYPE_ID|LOCATION_ID|DATA_YEAR|AGENCY_ID|INCIDENT_DATE|INCIDENT_HOUR|CLEARED_EXCEPT_ID|OFFENDER_ID|OFFENDER_SEQ_NUM|ARRESTEE_ID|ARREST_DATE|ARREST_TYPE_ID|MULTIPLE_INDICATOR|ARR_AGE_NUM|ARR_SEX_CODE|ARR_RACE_ID|ARR_ETHNICITY_ID|VICTIM_ID|VICTIM_SEQ_NUM|VICTIM_TYPE_ID|VICT_AGE_NUM|VICT_SEX_CODE|VICT_RACE_ID|VICT_ETHNICITY_ID|  OFFENSE_NAME|CRIME_AGAINST|OFFENSE_CATEGORY_NAME|\n",
            "+----------+-----------+---------------+-----------+---------+---------+-------------+-------------+-----------------+-----------+----------------+-----------+-----------+--------------+------------------+-----------+------------+-----------+----------------+---------+--------------+--------------+------------+-------------+------------+-----------------+--------------+-------------+---------------------+\n",
            "| 151183975|  124796798|             51|         20|     2020|    19724|    26-MAY-20|         12.0|                6|  141974686|               1|   38590739|  26-MAY-20|             1|                 N|       23.0|           M|          1|             1.0|137105559|             1|             4|        40.0|            M|         1.0|              2.0|Simple Assault|       Person|     Assault Offenses|\n",
            "| 151184154|  124795660|             51|         20|     2020|    19807|    11-MAY-20|          6.0|                6|  141975164|               3|   38594623|  11-MAY-20|             3|                 N|       36.0|           F|          0|             1.0|137110651|             3|             4|        36.0|            F|         0.0|              1.0|Simple Assault|       Person|     Assault Offenses|\n",
            "| 151184154|  124795660|             51|         20|     2020|    19807|    11-MAY-20|          6.0|                6|  141975164|               3|   38594623|  11-MAY-20|             3|                 N|       36.0|           F|          0|             1.0|137105706|             2|             4|        33.0|            F|         0.0|              1.0|Simple Assault|       Person|     Assault Offenses|\n",
            "| 151184154|  124795660|             51|         20|     2020|    19807|    11-MAY-20|          6.0|                6|  141975164|               3|   38594627|  11-MAY-20|             3|                 N|       33.0|           F|          0|             1.0|137110651|             3|             4|        36.0|            F|         0.0|              1.0|Simple Assault|       Person|     Assault Offenses|\n",
            "| 151184154|  124795660|             51|         20|     2020|    19807|    11-MAY-20|          6.0|                6|  141975164|               3|   38594627|  11-MAY-20|             3|                 N|       33.0|           F|          0|             1.0|137105706|             2|             4|        33.0|            F|         0.0|              1.0|Simple Assault|       Person|     Assault Offenses|\n",
            "| 151184154|  124795660|             51|         20|     2020|    19807|    11-MAY-20|          6.0|                6|  141975164|               3|   38594626|  15-MAY-20|             1|                 N|       30.0|           M|          1|             1.0|137110651|             3|             4|        36.0|            F|         0.0|              1.0|Simple Assault|       Person|     Assault Offenses|\n",
            "| 151184154|  124795660|             51|         20|     2020|    19807|    11-MAY-20|          6.0|                6|  141975164|               3|   38594626|  15-MAY-20|             1|                 N|       30.0|           M|          1|             1.0|137105706|             2|             4|        33.0|            F|         0.0|              1.0|Simple Assault|       Person|     Assault Offenses|\n",
            "| 151184154|  124795660|             51|         20|     2020|    19807|    11-MAY-20|          6.0|                6|  141974875|               1|   38594623|  11-MAY-20|             3|                 N|       36.0|           F|          0|             1.0|137110651|             3|             4|        36.0|            F|         0.0|              1.0|Simple Assault|       Person|     Assault Offenses|\n",
            "| 151184154|  124795660|             51|         20|     2020|    19807|    11-MAY-20|          6.0|                6|  141974875|               1|   38594623|  11-MAY-20|             3|                 N|       36.0|           F|          0|             1.0|137105706|             2|             4|        33.0|            F|         0.0|              1.0|Simple Assault|       Person|     Assault Offenses|\n",
            "| 151184154|  124795660|             51|         20|     2020|    19807|    11-MAY-20|          6.0|                6|  141974875|               1|   38594627|  11-MAY-20|             3|                 N|       33.0|           F|          0|             1.0|137110651|             3|             4|        36.0|            F|         0.0|              1.0|Simple Assault|       Person|     Assault Offenses|\n",
            "| 151184154|  124795660|             51|         20|     2020|    19807|    11-MAY-20|          6.0|                6|  141974875|               1|   38594627|  11-MAY-20|             3|                 N|       33.0|           F|          0|             1.0|137105706|             2|             4|        33.0|            F|         0.0|              1.0|Simple Assault|       Person|     Assault Offenses|\n",
            "| 151184154|  124795660|             51|         20|     2020|    19807|    11-MAY-20|          6.0|                6|  141974875|               1|   38594626|  15-MAY-20|             1|                 N|       30.0|           M|          1|             1.0|137110651|             3|             4|        36.0|            F|         0.0|              1.0|Simple Assault|       Person|     Assault Offenses|\n",
            "| 151184154|  124795660|             51|         20|     2020|    19807|    11-MAY-20|          6.0|                6|  141974875|               1|   38594626|  15-MAY-20|             1|                 N|       30.0|           M|          1|             1.0|137105706|             2|             4|        33.0|            F|         0.0|              1.0|Simple Assault|       Person|     Assault Offenses|\n",
            "| 151184154|  124795660|             51|         20|     2020|    19807|    11-MAY-20|          6.0|                6|  141975157|               2|   38594623|  11-MAY-20|             3|                 N|       36.0|           F|          0|             1.0|137110651|             3|             4|        36.0|            F|         0.0|              1.0|Simple Assault|       Person|     Assault Offenses|\n",
            "| 151184154|  124795660|             51|         20|     2020|    19807|    11-MAY-20|          6.0|                6|  141975157|               2|   38594623|  11-MAY-20|             3|                 N|       36.0|           F|          0|             1.0|137105706|             2|             4|        33.0|            F|         0.0|              1.0|Simple Assault|       Person|     Assault Offenses|\n",
            "| 151184154|  124795660|             51|         20|     2020|    19807|    11-MAY-20|          6.0|                6|  141975157|               2|   38594627|  11-MAY-20|             3|                 N|       33.0|           F|          0|             1.0|137110651|             3|             4|        36.0|            F|         0.0|              1.0|Simple Assault|       Person|     Assault Offenses|\n",
            "| 151184154|  124795660|             51|         20|     2020|    19807|    11-MAY-20|          6.0|                6|  141975157|               2|   38594627|  11-MAY-20|             3|                 N|       33.0|           F|          0|             1.0|137105706|             2|             4|        33.0|            F|         0.0|              1.0|Simple Assault|       Person|     Assault Offenses|\n",
            "| 151184154|  124795660|             51|         20|     2020|    19807|    11-MAY-20|          6.0|                6|  141975157|               2|   38594626|  15-MAY-20|             1|                 N|       30.0|           M|          1|             1.0|137110651|             3|             4|        36.0|            F|         0.0|              1.0|Simple Assault|       Person|     Assault Offenses|\n",
            "| 151184154|  124795660|             51|         20|     2020|    19807|    11-MAY-20|          6.0|                6|  141975157|               2|   38594626|  15-MAY-20|             1|                 N|       30.0|           M|          1|             1.0|137105706|             2|             4|        33.0|            F|         0.0|              1.0|Simple Assault|       Person|     Assault Offenses|\n",
            "| 160269056|  133012686|             51|          8|     2020|    19711|    29-NOV-20|         17.0|                6|  151134630|               1|   41113871|  29-NOV-20|             2|                 N|       20.0|           F|          2|             2.0|146119639|             4|             4|        21.0|            M|         2.0|              2.0|Simple Assault|       Person|     Assault Offenses|\n",
            "+----------+-----------+---------------+-----------+---------+---------+-------------+-------------+-----------------+-----------+----------------+-----------+-----------+--------------+------------------+-----------+------------+-----------+----------------+---------+--------------+--------------+------------+-------------+------------+-----------------+--------------+-------------+---------------------+\n",
            "only showing top 20 rows\n",
            "\n"
          ]
        }
      ]
    },
    {
      "cell_type": "code",
      "source": [
        "# Store environmental variable\n",
        "from getpass import getpass\n",
        "password = getpass('Enter database password')\n"
      ],
      "metadata": {
        "colab": {
          "base_uri": "https://localhost:8080/"
        },
        "id": "21kd1oCLVsTC",
        "outputId": "d58b2bdf-5bf7-450b-98ab-84eff754e9be"
      },
      "execution_count": 18,
      "outputs": [
        {
          "name": "stdout",
          "output_type": "stream",
          "text": [
            "Enter database password··········\n"
          ]
        }
      ]
    },
    {
      "cell_type": "code",
      "source": [
        "# Configure settings for RDS\n",
        "mode = \"append\"\n",
        "jdbc_url=\"jdbc:postgresql://database-crime.czbxze2tryse.us-east-2.rds.amazonaws.com:5432/database-crime\"\n",
        "config = {\"user\":\"postgres\",\n",
        "          \"password\": \"bootcamp10\",\n",
        "          \"driver\":\"org.postgresql.Driver\"}"
      ],
      "metadata": {
        "id": "Tpn1616jlTYB"
      },
      "execution_count": 19,
      "outputs": []
    },
    {
      "cell_type": "code",
      "source": [
        "# Write DataFrame to texas_df_agencies_df table in RDS\n",
        "texas_df_agencies_df.write.jdbc(url=jdbc_url, table='texas_df_agencies', mode=mode, properties=config)"
      ],
      "metadata": {
        "id": "gIhPY3w6a0a4"
      },
      "execution_count": 20,
      "outputs": []
    },
    {
      "cell_type": "code",
      "source": [
        "# Write DataFrame to texas_df_crimes_df table in RDS\n",
        "texas_df_crimes_df.write.jdbc(url=jdbc_url, table='texas_df_crimes', mode=mode, properties=config)"
      ],
      "metadata": {
        "id": "bvY30Mslbgis"
      },
      "execution_count": 11,
      "outputs": []
    }
  ]
}