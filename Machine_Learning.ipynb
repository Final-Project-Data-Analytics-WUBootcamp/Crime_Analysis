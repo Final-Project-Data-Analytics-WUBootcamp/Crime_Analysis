{
 "cells": [
  {
   "cell_type": "code",
   "execution_count": 215,
   "id": "60ac0b5a",
   "metadata": {},
   "outputs": [],
   "source": [
    "import numpy as np\n",
    "import pandas as pd\n",
    "from pathlib import Path\n",
    "from collections import Counter"
   ]
  },
  {
   "cell_type": "code",
   "execution_count": 216,
   "id": "79449e8d",
   "metadata": {},
   "outputs": [
    {
     "name": "stderr",
     "output_type": "stream",
     "text": [
      "C:\\Users\\Lane\\anaconda3\\lib\\site-packages\\IPython\\core\\interactiveshell.py:3165: DtypeWarning: Columns (13) have mixed types.Specify dtype option on import or set low_memory=False.\n",
      "  has_raised = await self.run_ast_nodes(code_ast.body, cell_name,\n"
     ]
    },
    {
     "data": {
      "text/html": [
       "<div>\n",
       "<style scoped>\n",
       "    .dataframe tbody tr th:only-of-type {\n",
       "        vertical-align: middle;\n",
       "    }\n",
       "\n",
       "    .dataframe tbody tr th {\n",
       "        vertical-align: top;\n",
       "    }\n",
       "\n",
       "    .dataframe thead th {\n",
       "        text-align: right;\n",
       "    }\n",
       "</style>\n",
       "<table border=\"1\" class=\"dataframe\">\n",
       "  <thead>\n",
       "    <tr style=\"text-align: right;\">\n",
       "      <th></th>\n",
       "      <th>AGENCY_ID</th>\n",
       "      <th>INCIDENT_ID</th>\n",
       "      <th>INCIDENT_DATE</th>\n",
       "      <th>INCIDENT_HOUR</th>\n",
       "      <th>CLEARED_EXCEPT_ID</th>\n",
       "      <th>OFFENSE_ID</th>\n",
       "      <th>OFFENSE_TYPE_ID</th>\n",
       "      <th>PUB_AGENCY_NAME</th>\n",
       "      <th>AGENCY_TYPE_NAME</th>\n",
       "      <th>POPULATION</th>\n",
       "      <th>SUBURBAN_AREA_FLAG</th>\n",
       "      <th>POPULATION_GROUP_CODE</th>\n",
       "      <th>COUNTY_NAME</th>\n",
       "      <th>OFFENSE_CODE</th>\n",
       "      <th>OFFENSE_NAME</th>\n",
       "      <th>CRIME_AGAINST</th>\n",
       "      <th>OFFENSE_CATEGORY_NAME</th>\n",
       "      <th>OFFENSE_GROUP</th>\n",
       "    </tr>\n",
       "  </thead>\n",
       "  <tbody>\n",
       "    <tr>\n",
       "      <th>0</th>\n",
       "      <td>29534</td>\n",
       "      <td>133835511</td>\n",
       "      <td>08-DEC-20</td>\n",
       "      <td>11.0</td>\n",
       "      <td>5</td>\n",
       "      <td>161190322</td>\n",
       "      <td>51</td>\n",
       "      <td>Independent School District:</td>\n",
       "      <td>Other</td>\n",
       "      <td>0</td>\n",
       "      <td>Y</td>\n",
       "      <td>7</td>\n",
       "      <td>BEXAR</td>\n",
       "      <td>13B</td>\n",
       "      <td>Simple Assault</td>\n",
       "      <td>Person</td>\n",
       "      <td>Assault Offenses</td>\n",
       "      <td>A</td>\n",
       "    </tr>\n",
       "    <tr>\n",
       "      <th>1</th>\n",
       "      <td>29534</td>\n",
       "      <td>133831060</td>\n",
       "      <td>07-DEC-20</td>\n",
       "      <td>16.0</td>\n",
       "      <td>5</td>\n",
       "      <td>161194775</td>\n",
       "      <td>51</td>\n",
       "      <td>Independent School District:</td>\n",
       "      <td>Other</td>\n",
       "      <td>0</td>\n",
       "      <td>Y</td>\n",
       "      <td>7</td>\n",
       "      <td>BEXAR</td>\n",
       "      <td>13B</td>\n",
       "      <td>Simple Assault</td>\n",
       "      <td>Person</td>\n",
       "      <td>Assault Offenses</td>\n",
       "      <td>A</td>\n",
       "    </tr>\n",
       "    <tr>\n",
       "      <th>2</th>\n",
       "      <td>29534</td>\n",
       "      <td>123548684</td>\n",
       "      <td>03-MAR-20</td>\n",
       "      <td>16.0</td>\n",
       "      <td>5</td>\n",
       "      <td>149716714</td>\n",
       "      <td>51</td>\n",
       "      <td>Independent School District:</td>\n",
       "      <td>Other</td>\n",
       "      <td>0</td>\n",
       "      <td>Y</td>\n",
       "      <td>7</td>\n",
       "      <td>BEXAR</td>\n",
       "      <td>13B</td>\n",
       "      <td>Simple Assault</td>\n",
       "      <td>Person</td>\n",
       "      <td>Assault Offenses</td>\n",
       "      <td>A</td>\n",
       "    </tr>\n",
       "    <tr>\n",
       "      <th>3</th>\n",
       "      <td>29534</td>\n",
       "      <td>123548754</td>\n",
       "      <td>04-MAR-20</td>\n",
       "      <td>15.0</td>\n",
       "      <td>5</td>\n",
       "      <td>149716774</td>\n",
       "      <td>51</td>\n",
       "      <td>Independent School District:</td>\n",
       "      <td>Other</td>\n",
       "      <td>0</td>\n",
       "      <td>Y</td>\n",
       "      <td>7</td>\n",
       "      <td>BEXAR</td>\n",
       "      <td>13B</td>\n",
       "      <td>Simple Assault</td>\n",
       "      <td>Person</td>\n",
       "      <td>Assault Offenses</td>\n",
       "      <td>A</td>\n",
       "    </tr>\n",
       "    <tr>\n",
       "      <th>4</th>\n",
       "      <td>29534</td>\n",
       "      <td>123552261</td>\n",
       "      <td>05-MAR-20</td>\n",
       "      <td>16.0</td>\n",
       "      <td>6</td>\n",
       "      <td>149713571</td>\n",
       "      <td>51</td>\n",
       "      <td>Independent School District:</td>\n",
       "      <td>Other</td>\n",
       "      <td>0</td>\n",
       "      <td>Y</td>\n",
       "      <td>7</td>\n",
       "      <td>BEXAR</td>\n",
       "      <td>13B</td>\n",
       "      <td>Simple Assault</td>\n",
       "      <td>Person</td>\n",
       "      <td>Assault Offenses</td>\n",
       "      <td>A</td>\n",
       "    </tr>\n",
       "  </tbody>\n",
       "</table>\n",
       "</div>"
      ],
      "text/plain": [
       "   AGENCY_ID  INCIDENT_ID INCIDENT_DATE  INCIDENT_HOUR  CLEARED_EXCEPT_ID  \\\n",
       "0      29534    133835511     08-DEC-20           11.0                  5   \n",
       "1      29534    133831060     07-DEC-20           16.0                  5   \n",
       "2      29534    123548684     03-MAR-20           16.0                  5   \n",
       "3      29534    123548754     04-MAR-20           15.0                  5   \n",
       "4      29534    123552261     05-MAR-20           16.0                  6   \n",
       "\n",
       "   OFFENSE_ID  OFFENSE_TYPE_ID               PUB_AGENCY_NAME AGENCY_TYPE_NAME  \\\n",
       "0   161190322               51  Independent School District:            Other   \n",
       "1   161194775               51  Independent School District:            Other   \n",
       "2   149716714               51  Independent School District:            Other   \n",
       "3   149716774               51  Independent School District:            Other   \n",
       "4   149713571               51  Independent School District:            Other   \n",
       "\n",
       "   POPULATION SUBURBAN_AREA_FLAG POPULATION_GROUP_CODE COUNTY_NAME  \\\n",
       "0           0                  Y                     7       BEXAR   \n",
       "1           0                  Y                     7       BEXAR   \n",
       "2           0                  Y                     7       BEXAR   \n",
       "3           0                  Y                     7       BEXAR   \n",
       "4           0                  Y                     7       BEXAR   \n",
       "\n",
       "  OFFENSE_CODE    OFFENSE_NAME CRIME_AGAINST OFFENSE_CATEGORY_NAME  \\\n",
       "0          13B  Simple Assault        Person      Assault Offenses   \n",
       "1          13B  Simple Assault        Person      Assault Offenses   \n",
       "2          13B  Simple Assault        Person      Assault Offenses   \n",
       "3          13B  Simple Assault        Person      Assault Offenses   \n",
       "4          13B  Simple Assault        Person      Assault Offenses   \n",
       "\n",
       "  OFFENSE_GROUP  \n",
       "0             A  \n",
       "1             A  \n",
       "2             A  \n",
       "3             A  \n",
       "4             A  "
      ]
     },
     "execution_count": 216,
     "metadata": {},
     "output_type": "execute_result"
    }
   ],
   "source": [
    "texas_crime_data_df = pd.read_csv(\"Resources/Texas_2020.csv\")\n",
    "texas_crime_data_df.head()"
   ]
  },
  {
   "cell_type": "code",
   "execution_count": 217,
   "id": "fa4cd66a",
   "metadata": {},
   "outputs": [
    {
     "data": {
      "text/plain": [
       "AGENCY_ID                  int64\n",
       "INCIDENT_ID                int64\n",
       "INCIDENT_DATE             object\n",
       "INCIDENT_HOUR            float64\n",
       "CLEARED_EXCEPT_ID          int64\n",
       "OFFENSE_ID                 int64\n",
       "OFFENSE_TYPE_ID            int64\n",
       "PUB_AGENCY_NAME           object\n",
       "AGENCY_TYPE_NAME          object\n",
       "POPULATION                 int64\n",
       "SUBURBAN_AREA_FLAG        object\n",
       "POPULATION_GROUP_CODE     object\n",
       "COUNTY_NAME               object\n",
       "OFFENSE_CODE              object\n",
       "OFFENSE_NAME              object\n",
       "CRIME_AGAINST             object\n",
       "OFFENSE_CATEGORY_NAME     object\n",
       "OFFENSE_GROUP             object\n",
       "dtype: object"
      ]
     },
     "execution_count": 217,
     "metadata": {},
     "output_type": "execute_result"
    }
   ],
   "source": [
    "texas_crime_data_df.dtypes"
   ]
  },
  {
   "cell_type": "code",
   "execution_count": 218,
   "id": "a1959e13",
   "metadata": {},
   "outputs": [
    {
     "data": {
      "text/plain": [
       "AGENCY_ID                    775\n",
       "INCIDENT_ID              1109465\n",
       "INCIDENT_DATE                366\n",
       "INCIDENT_HOUR                 24\n",
       "CLEARED_EXCEPT_ID              6\n",
       "OFFENSE_ID               1200701\n",
       "OFFENSE_TYPE_ID               53\n",
       "PUB_AGENCY_NAME              686\n",
       "AGENCY_TYPE_NAME               5\n",
       "POPULATION                   676\n",
       "SUBURBAN_AREA_FLAG             2\n",
       "POPULATION_GROUP_CODE         16\n",
       "COUNTY_NAME                  286\n",
       "OFFENSE_CODE                  56\n",
       "OFFENSE_NAME                  53\n",
       "CRIME_AGAINST                  3\n",
       "OFFENSE_CATEGORY_NAME         25\n",
       "OFFENSE_GROUP                  1\n",
       "dtype: int64"
      ]
     },
     "execution_count": 218,
     "metadata": {},
     "output_type": "execute_result"
    }
   ],
   "source": [
    "texas_crime_data_df.nunique()"
   ]
  },
  {
   "cell_type": "code",
   "execution_count": 219,
   "id": "5b41d66b",
   "metadata": {},
   "outputs": [
    {
     "data": {
      "text/plain": [
       "array(['Person', 'Society', 'Property'], dtype=object)"
      ]
     },
     "execution_count": 219,
     "metadata": {},
     "output_type": "execute_result"
    }
   ],
   "source": [
    "texas_crime_data_df['CRIME_AGAINST'].unique()"
   ]
  },
  {
   "cell_type": "code",
   "execution_count": 220,
   "id": "016aa665",
   "metadata": {},
   "outputs": [
    {
     "data": {
      "text/plain": [
       "Property    743036\n",
       "Person      310195\n",
       "Society     147470\n",
       "Name: CRIME_AGAINST, dtype: int64"
      ]
     },
     "execution_count": 220,
     "metadata": {},
     "output_type": "execute_result"
    }
   ],
   "source": [
    "pd.value_counts(texas_crime_data_df['CRIME_AGAINST'])"
   ]
  },
  {
   "cell_type": "code",
   "execution_count": 221,
   "id": "694503bb",
   "metadata": {},
   "outputs": [],
   "source": [
    "# type = []\n",
    "\n",
    "# for row in texas_crime_data_df['OFFENSE_CATEGORY_NAME']:\n",
    "#     if row == 'Assault Offenses':\n",
    "#         type.append('Assault')\n",
    "#     else:\n",
    "#          type.append('Other')\n",
    "    \n",
    "    \n",
    "# texas_crime_data_df['TYPE'] = type\n",
    " \n",
    "# texas_crime_data_df.head()\n",
    "    "
   ]
  },
  {
   "cell_type": "code",
   "execution_count": 222,
   "id": "1315507d",
   "metadata": {},
   "outputs": [],
   "source": [
    "# texas_crime_data_df['TYPE'].nunique()\n"
   ]
  },
  {
   "cell_type": "code",
   "execution_count": 223,
   "id": "037e9c6a",
   "metadata": {},
   "outputs": [],
   "source": [
    "# i = 0\n",
    "\n",
    "# for row in texas_crime_data_df['TYPE']:\n",
    "#     if row ==\"Assault\":\n",
    "#         i = i + 1\n",
    "# i       \n",
    "        "
   ]
  },
  {
   "cell_type": "code",
   "execution_count": 224,
   "id": "54ce386c",
   "metadata": {},
   "outputs": [],
   "source": [
    "# i = 0\n",
    "\n",
    "# for row in texas_crime_data_df['TYPE']:\n",
    "#     if row ==\"Other\":\n",
    "#         i = i + 1\n",
    "# i       \n",
    "        "
   ]
  },
  {
   "cell_type": "code",
   "execution_count": 225,
   "id": "e146b9be",
   "metadata": {},
   "outputs": [
    {
     "data": {
      "text/plain": [
       "AGENCY_ID                 0\n",
       "INCIDENT_ID               0\n",
       "INCIDENT_DATE             0\n",
       "INCIDENT_HOUR             0\n",
       "CLEARED_EXCEPT_ID         0\n",
       "OFFENSE_ID                0\n",
       "OFFENSE_TYPE_ID           0\n",
       "PUB_AGENCY_NAME           0\n",
       "AGENCY_TYPE_NAME          0\n",
       "POPULATION                0\n",
       "SUBURBAN_AREA_FLAG        0\n",
       "POPULATION_GROUP_CODE     0\n",
       "COUNTY_NAME              11\n",
       "OFFENSE_CODE              0\n",
       "OFFENSE_NAME              0\n",
       "CRIME_AGAINST             0\n",
       "OFFENSE_CATEGORY_NAME     0\n",
       "OFFENSE_GROUP             0\n",
       "dtype: int64"
      ]
     },
     "execution_count": 225,
     "metadata": {},
     "output_type": "execute_result"
    }
   ],
   "source": [
    "texas_crime_data_df.isnull().sum()"
   ]
  },
  {
   "cell_type": "code",
   "execution_count": 226,
   "id": "fba35474",
   "metadata": {},
   "outputs": [],
   "source": [
    "texas_crime_data_df = texas_crime_data_df.dropna()"
   ]
  },
  {
   "cell_type": "code",
   "execution_count": 227,
   "id": "a5de7e9f",
   "metadata": {},
   "outputs": [
    {
     "data": {
      "text/plain": [
       "AGENCY_ID                0\n",
       "INCIDENT_ID              0\n",
       "INCIDENT_DATE            0\n",
       "INCIDENT_HOUR            0\n",
       "CLEARED_EXCEPT_ID        0\n",
       "OFFENSE_ID               0\n",
       "OFFENSE_TYPE_ID          0\n",
       "PUB_AGENCY_NAME          0\n",
       "AGENCY_TYPE_NAME         0\n",
       "POPULATION               0\n",
       "SUBURBAN_AREA_FLAG       0\n",
       "POPULATION_GROUP_CODE    0\n",
       "COUNTY_NAME              0\n",
       "OFFENSE_CODE             0\n",
       "OFFENSE_NAME             0\n",
       "CRIME_AGAINST            0\n",
       "OFFENSE_CATEGORY_NAME    0\n",
       "OFFENSE_GROUP            0\n",
       "dtype: int64"
      ]
     },
     "execution_count": 227,
     "metadata": {},
     "output_type": "execute_result"
    }
   ],
   "source": [
    "\n",
    "texas_crime_data_df.isnull().sum()"
   ]
  },
  {
   "cell_type": "code",
   "execution_count": 228,
   "id": "f086fb41",
   "metadata": {},
   "outputs": [
    {
     "data": {
      "text/html": [
       "<div>\n",
       "<style scoped>\n",
       "    .dataframe tbody tr th:only-of-type {\n",
       "        vertical-align: middle;\n",
       "    }\n",
       "\n",
       "    .dataframe tbody tr th {\n",
       "        vertical-align: top;\n",
       "    }\n",
       "\n",
       "    .dataframe thead th {\n",
       "        text-align: right;\n",
       "    }\n",
       "</style>\n",
       "<table border=\"1\" class=\"dataframe\">\n",
       "  <thead>\n",
       "    <tr style=\"text-align: right;\">\n",
       "      <th></th>\n",
       "      <th>INCIDENT_HOUR</th>\n",
       "      <th>POPULATION</th>\n",
       "      <th>SUBURBAN_AREA_FLAG</th>\n",
       "      <th>CRIME_AGAINST</th>\n",
       "    </tr>\n",
       "  </thead>\n",
       "  <tbody>\n",
       "    <tr>\n",
       "      <th>0</th>\n",
       "      <td>11.0</td>\n",
       "      <td>0</td>\n",
       "      <td>Y</td>\n",
       "      <td>Person</td>\n",
       "    </tr>\n",
       "    <tr>\n",
       "      <th>1</th>\n",
       "      <td>16.0</td>\n",
       "      <td>0</td>\n",
       "      <td>Y</td>\n",
       "      <td>Person</td>\n",
       "    </tr>\n",
       "    <tr>\n",
       "      <th>2</th>\n",
       "      <td>16.0</td>\n",
       "      <td>0</td>\n",
       "      <td>Y</td>\n",
       "      <td>Person</td>\n",
       "    </tr>\n",
       "    <tr>\n",
       "      <th>3</th>\n",
       "      <td>15.0</td>\n",
       "      <td>0</td>\n",
       "      <td>Y</td>\n",
       "      <td>Person</td>\n",
       "    </tr>\n",
       "    <tr>\n",
       "      <th>4</th>\n",
       "      <td>16.0</td>\n",
       "      <td>0</td>\n",
       "      <td>Y</td>\n",
       "      <td>Person</td>\n",
       "    </tr>\n",
       "  </tbody>\n",
       "</table>\n",
       "</div>"
      ],
      "text/plain": [
       "   INCIDENT_HOUR  POPULATION SUBURBAN_AREA_FLAG CRIME_AGAINST\n",
       "0           11.0           0                  Y        Person\n",
       "1           16.0           0                  Y        Person\n",
       "2           16.0           0                  Y        Person\n",
       "3           15.0           0                  Y        Person\n",
       "4           16.0           0                  Y        Person"
      ]
     },
     "execution_count": 228,
     "metadata": {},
     "output_type": "execute_result"
    }
   ],
   "source": [
    "texas_crime_data_df = texas_crime_data_df.drop(['AGENCY_ID','INCIDENT_ID','INCIDENT_DATE','CLEARED_EXCEPT_ID',\n",
    "                             'OFFENSE_ID','OFFENSE_TYPE_ID','PUB_AGENCY_NAME',\n",
    "                             'AGENCY_TYPE_NAME','POPULATION_GROUP_CODE','COUNTY_NAME',\n",
    "                              'OFFENSE_CODE','OFFENSE_NAME','OFFENSE_CATEGORY_NAME','OFFENSE_GROUP'],axis=1)\n",
    "texas_crime_data_df.head()"
   ]
  },
  {
   "cell_type": "code",
   "execution_count": 229,
   "id": "e92c5f6f",
   "metadata": {},
   "outputs": [
    {
     "data": {
      "text/html": [
       "<div>\n",
       "<style scoped>\n",
       "    .dataframe tbody tr th:only-of-type {\n",
       "        vertical-align: middle;\n",
       "    }\n",
       "\n",
       "    .dataframe tbody tr th {\n",
       "        vertical-align: top;\n",
       "    }\n",
       "\n",
       "    .dataframe thead th {\n",
       "        text-align: right;\n",
       "    }\n",
       "</style>\n",
       "<table border=\"1\" class=\"dataframe\">\n",
       "  <thead>\n",
       "    <tr style=\"text-align: right;\">\n",
       "      <th></th>\n",
       "      <th>INCIDENT_HOUR</th>\n",
       "      <th>POPULATION</th>\n",
       "      <th>SUBURBAN_AREA_FLAG_N</th>\n",
       "      <th>SUBURBAN_AREA_FLAG_Y</th>\n",
       "    </tr>\n",
       "  </thead>\n",
       "  <tbody>\n",
       "    <tr>\n",
       "      <th>0</th>\n",
       "      <td>11.0</td>\n",
       "      <td>0</td>\n",
       "      <td>0</td>\n",
       "      <td>1</td>\n",
       "    </tr>\n",
       "    <tr>\n",
       "      <th>1</th>\n",
       "      <td>16.0</td>\n",
       "      <td>0</td>\n",
       "      <td>0</td>\n",
       "      <td>1</td>\n",
       "    </tr>\n",
       "    <tr>\n",
       "      <th>2</th>\n",
       "      <td>16.0</td>\n",
       "      <td>0</td>\n",
       "      <td>0</td>\n",
       "      <td>1</td>\n",
       "    </tr>\n",
       "    <tr>\n",
       "      <th>3</th>\n",
       "      <td>15.0</td>\n",
       "      <td>0</td>\n",
       "      <td>0</td>\n",
       "      <td>1</td>\n",
       "    </tr>\n",
       "    <tr>\n",
       "      <th>4</th>\n",
       "      <td>16.0</td>\n",
       "      <td>0</td>\n",
       "      <td>0</td>\n",
       "      <td>1</td>\n",
       "    </tr>\n",
       "  </tbody>\n",
       "</table>\n",
       "</div>"
      ],
      "text/plain": [
       "   INCIDENT_HOUR  POPULATION  SUBURBAN_AREA_FLAG_N  SUBURBAN_AREA_FLAG_Y\n",
       "0           11.0           0                     0                     1\n",
       "1           16.0           0                     0                     1\n",
       "2           16.0           0                     0                     1\n",
       "3           15.0           0                     0                     1\n",
       "4           16.0           0                     0                     1"
      ]
     },
     "execution_count": 229,
     "metadata": {},
     "output_type": "execute_result"
    }
   ],
   "source": [
    "X = texas_crime_data_df.drop(columns=\"CRIME_AGAINST\")\n",
    "# X = pd.get_dummies(texas_crime_data_df, texas_crime_data_df[\"SUBURBAN_AREA_FLAG\"])\n",
    "X = pd.get_dummies(X)\n",
    "y = texas_crime_data_df[\"CRIME_AGAINST\"]\n",
    "\n",
    "X.head()"
   ]
  },
  {
   "cell_type": "code",
   "execution_count": 230,
   "id": "9e7115cd",
   "metadata": {},
   "outputs": [
    {
     "data": {
      "text/html": [
       "<div>\n",
       "<style scoped>\n",
       "    .dataframe tbody tr th:only-of-type {\n",
       "        vertical-align: middle;\n",
       "    }\n",
       "\n",
       "    .dataframe tbody tr th {\n",
       "        vertical-align: top;\n",
       "    }\n",
       "\n",
       "    .dataframe thead th {\n",
       "        text-align: right;\n",
       "    }\n",
       "</style>\n",
       "<table border=\"1\" class=\"dataframe\">\n",
       "  <thead>\n",
       "    <tr style=\"text-align: right;\">\n",
       "      <th></th>\n",
       "      <th>INCIDENT_HOUR</th>\n",
       "      <th>POPULATION</th>\n",
       "      <th>SUBURBAN_AREA_FLAG_N</th>\n",
       "      <th>SUBURBAN_AREA_FLAG_Y</th>\n",
       "    </tr>\n",
       "  </thead>\n",
       "  <tbody>\n",
       "    <tr>\n",
       "      <th>count</th>\n",
       "      <td>1.200690e+06</td>\n",
       "      <td>1.200690e+06</td>\n",
       "      <td>1.200690e+06</td>\n",
       "      <td>1.200690e+06</td>\n",
       "    </tr>\n",
       "    <tr>\n",
       "      <th>mean</th>\n",
       "      <td>1.280327e+01</td>\n",
       "      <td>9.051306e+05</td>\n",
       "      <td>7.557704e-01</td>\n",
       "      <td>2.442296e-01</td>\n",
       "    </tr>\n",
       "    <tr>\n",
       "      <th>std</th>\n",
       "      <td>6.970333e+00</td>\n",
       "      <td>8.917516e+05</td>\n",
       "      <td>4.296297e-01</td>\n",
       "      <td>4.296297e-01</td>\n",
       "    </tr>\n",
       "    <tr>\n",
       "      <th>min</th>\n",
       "      <td>0.000000e+00</td>\n",
       "      <td>0.000000e+00</td>\n",
       "      <td>0.000000e+00</td>\n",
       "      <td>0.000000e+00</td>\n",
       "    </tr>\n",
       "    <tr>\n",
       "      <th>25%</th>\n",
       "      <td>8.000000e+00</td>\n",
       "      <td>1.018600e+05</td>\n",
       "      <td>1.000000e+00</td>\n",
       "      <td>0.000000e+00</td>\n",
       "    </tr>\n",
       "    <tr>\n",
       "      <th>50%</th>\n",
       "      <td>1.400000e+01</td>\n",
       "      <td>4.027000e+05</td>\n",
       "      <td>1.000000e+00</td>\n",
       "      <td>0.000000e+00</td>\n",
       "    </tr>\n",
       "    <tr>\n",
       "      <th>75%</th>\n",
       "      <td>1.900000e+01</td>\n",
       "      <td>1.965544e+06</td>\n",
       "      <td>1.000000e+00</td>\n",
       "      <td>0.000000e+00</td>\n",
       "    </tr>\n",
       "    <tr>\n",
       "      <th>max</th>\n",
       "      <td>2.300000e+01</td>\n",
       "      <td>2.346155e+06</td>\n",
       "      <td>1.000000e+00</td>\n",
       "      <td>1.000000e+00</td>\n",
       "    </tr>\n",
       "  </tbody>\n",
       "</table>\n",
       "</div>"
      ],
      "text/plain": [
       "       INCIDENT_HOUR    POPULATION  SUBURBAN_AREA_FLAG_N  SUBURBAN_AREA_FLAG_Y\n",
       "count   1.200690e+06  1.200690e+06          1.200690e+06          1.200690e+06\n",
       "mean    1.280327e+01  9.051306e+05          7.557704e-01          2.442296e-01\n",
       "std     6.970333e+00  8.917516e+05          4.296297e-01          4.296297e-01\n",
       "min     0.000000e+00  0.000000e+00          0.000000e+00          0.000000e+00\n",
       "25%     8.000000e+00  1.018600e+05          1.000000e+00          0.000000e+00\n",
       "50%     1.400000e+01  4.027000e+05          1.000000e+00          0.000000e+00\n",
       "75%     1.900000e+01  1.965544e+06          1.000000e+00          0.000000e+00\n",
       "max     2.300000e+01  2.346155e+06          1.000000e+00          1.000000e+00"
      ]
     },
     "execution_count": 230,
     "metadata": {},
     "output_type": "execute_result"
    }
   ],
   "source": [
    "X.describe()"
   ]
  },
  {
   "cell_type": "code",
   "execution_count": 231,
   "id": "a8242f6d",
   "metadata": {},
   "outputs": [
    {
     "data": {
      "text/plain": [
       "(900517, 4)"
      ]
     },
     "execution_count": 231,
     "metadata": {},
     "output_type": "execute_result"
    }
   ],
   "source": [
    "from sklearn.model_selection import train_test_split\n",
    "\n",
    "X_train, X_test, y_train, y_test = train_test_split(X, \n",
    "                                                    y, \n",
    "                                                    random_state=1, \n",
    "                                                    stratify=y)\n",
    "X_train.shape"
   ]
  },
  {
   "cell_type": "markdown",
   "id": "7f1e825f",
   "metadata": {},
   "source": [
    "# Oversampling"
   ]
  },
  {
   "cell_type": "markdown",
   "id": "29ef7b43",
   "metadata": {},
   "source": [
    "### Naive Random Oversampling"
   ]
  },
  {
   "cell_type": "code",
   "execution_count": 232,
   "id": "915b32dc",
   "metadata": {},
   "outputs": [
    {
     "data": {
      "text/plain": [
       "Counter({'Property': 557276, 'Person': 557276, 'Society': 557276})"
      ]
     },
     "execution_count": 232,
     "metadata": {},
     "output_type": "execute_result"
    }
   ],
   "source": [
    "# Resample the training data with the RandomOversampler\n",
    "from imblearn.over_sampling import RandomOverSampler\n",
    "\n",
    "ros = RandomOverSampler(random_state=1)\n",
    "X_resampled, y_resampled = ros.fit_resample(X_train, y_train)\n",
    "\n",
    "Counter(y_resampled)"
   ]
  },
  {
   "cell_type": "code",
   "execution_count": 233,
   "id": "f531186b",
   "metadata": {},
   "outputs": [
    {
     "data": {
      "text/plain": [
       "LogisticRegression(random_state=1)"
      ]
     },
     "execution_count": 233,
     "metadata": {},
     "output_type": "execute_result"
    }
   ],
   "source": [
    "# Train the Logistic Regression model using the resampled data\n",
    "from sklearn.linear_model import LogisticRegression\n",
    "\n",
    "#model = LogisticRegression(solver='lbfgs', random_state=1)\n",
    "model = LogisticRegression(random_state=1)\n",
    "model.fit(X_resampled, y_resampled)"
   ]
  },
  {
   "cell_type": "code",
   "execution_count": 234,
   "id": "03c0cd39",
   "metadata": {},
   "outputs": [
    {
     "data": {
      "text/plain": [
       "0.33707135763820273"
      ]
     },
     "execution_count": 234,
     "metadata": {},
     "output_type": "execute_result"
    }
   ],
   "source": [
    "# Calculated the balanced accuracy score\n",
    "from sklearn.metrics import balanced_accuracy_score\n",
    "y_pred = model.predict(X_test)\n",
    "balanced_accuracy_score(y_test, y_pred)"
   ]
  },
  {
   "cell_type": "code",
   "execution_count": 235,
   "id": "7b13b832",
   "metadata": {},
   "outputs": [
    {
     "data": {
      "text/plain": [
       "array([[ 76962,      0,    586],\n",
       "       [184509,      0,   1250],\n",
       "       [ 36174,      0,    692]], dtype=int64)"
      ]
     },
     "execution_count": 235,
     "metadata": {},
     "output_type": "execute_result"
    }
   ],
   "source": [
    "# Display the confusion matrix\n",
    "from sklearn.metrics import confusion_matrix\n",
    "\n",
    "\n",
    "confusion_matrix(y_test, y_pred)"
   ]
  },
  {
   "cell_type": "code",
   "execution_count": 236,
   "id": "72356328",
   "metadata": {},
   "outputs": [
    {
     "name": "stderr",
     "output_type": "stream",
     "text": [
      "C:\\Users\\Lane\\anaconda3\\lib\\site-packages\\sklearn\\metrics\\_classification.py:1245: UndefinedMetricWarning: Precision and F-score are ill-defined and being set to 0.0 in labels with no predicted samples. Use `zero_division` parameter to control this behavior.\n",
      "  _warn_prf(average, modifier, msg_start, len(result))\n"
     ]
    },
    {
     "name": "stdout",
     "output_type": "stream",
     "text": [
      "                   pre       rec       spe        f1       geo       iba       sup\n",
      "\n",
      "     Person       0.26      0.99      0.01      0.41      0.09      0.01     77548\n",
      "   Property       0.00      0.00      1.00      0.00      0.00      0.00    185759\n",
      "    Society       0.27      0.02      0.99      0.04      0.14      0.02     36866\n",
      "\n",
      "avg / total       0.10      0.26      0.74      0.11      0.04      0.00    300173\n",
      "\n"
     ]
    }
   ],
   "source": [
    "# Print the imbalanced classification report\n",
    "from imblearn.metrics import classification_report_imbalanced\n",
    "print(classification_report_imbalanced(y_test, y_pred))"
   ]
  },
  {
   "cell_type": "markdown",
   "id": "41d3478f",
   "metadata": {},
   "source": [
    "### SMOTE Oversampling"
   ]
  },
  {
   "cell_type": "code",
   "execution_count": 237,
   "id": "51b15a93",
   "metadata": {},
   "outputs": [
    {
     "data": {
      "text/plain": [
       "Counter({'Property': 557276, 'Person': 557276, 'Society': 557276})"
      ]
     },
     "execution_count": 237,
     "metadata": {},
     "output_type": "execute_result"
    }
   ],
   "source": [
    "# Resample the training data with SMOTE\n",
    "from imblearn.over_sampling import SMOTE\n",
    "X_resampled, y_resampled = SMOTE(random_state=1, sampling_strategy='auto').fit_resample(\n",
    "    X_train, y_train\n",
    ")\n",
    "Counter(y_resampled)"
   ]
  },
  {
   "cell_type": "code",
   "execution_count": 238,
   "id": "070e7a0b",
   "metadata": {},
   "outputs": [
    {
     "data": {
      "text/plain": [
       "LogisticRegression(random_state=1)"
      ]
     },
     "execution_count": 238,
     "metadata": {},
     "output_type": "execute_result"
    }
   ],
   "source": [
    "# Train the Logistic Regression model using the resampled data\n",
    "model = LogisticRegression(solver='lbfgs', random_state=1)\n",
    "model.fit(X_resampled, y_resampled)"
   ]
  },
  {
   "cell_type": "code",
   "execution_count": 239,
   "id": "19d5ce30",
   "metadata": {},
   "outputs": [
    {
     "data": {
      "text/plain": [
       "0.33707135763820273"
      ]
     },
     "execution_count": 239,
     "metadata": {},
     "output_type": "execute_result"
    }
   ],
   "source": [
    "# Calculated the balanced accuracy score\n",
    "y_pred = model.predict(X_test)\n",
    "balanced_accuracy_score(y_test, y_pred)"
   ]
  },
  {
   "cell_type": "code",
   "execution_count": 240,
   "id": "b9a8d32d",
   "metadata": {},
   "outputs": [
    {
     "data": {
      "text/plain": [
       "array([[ 76962,      0,    586],\n",
       "       [184509,      0,   1250],\n",
       "       [ 36174,      0,    692]], dtype=int64)"
      ]
     },
     "execution_count": 240,
     "metadata": {},
     "output_type": "execute_result"
    }
   ],
   "source": [
    "# Display the confusion matrix\n",
    "confusion_matrix(y_test, y_pred)"
   ]
  },
  {
   "cell_type": "code",
   "execution_count": 241,
   "id": "eab11a0e",
   "metadata": {},
   "outputs": [
    {
     "name": "stderr",
     "output_type": "stream",
     "text": [
      "C:\\Users\\Lane\\anaconda3\\lib\\site-packages\\sklearn\\metrics\\_classification.py:1245: UndefinedMetricWarning: Precision and F-score are ill-defined and being set to 0.0 in labels with no predicted samples. Use `zero_division` parameter to control this behavior.\n",
      "  _warn_prf(average, modifier, msg_start, len(result))\n"
     ]
    },
    {
     "name": "stdout",
     "output_type": "stream",
     "text": [
      "                   pre       rec       spe        f1       geo       iba       sup\n",
      "\n",
      "     Person       0.26      0.99      0.01      0.41      0.09      0.01     77548\n",
      "   Property       0.00      0.00      1.00      0.00      0.00      0.00    185759\n",
      "    Society       0.27      0.02      0.99      0.04      0.14      0.02     36866\n",
      "\n",
      "avg / total       0.10      0.26      0.74      0.11      0.04      0.00    300173\n",
      "\n"
     ]
    }
   ],
   "source": [
    "# Print the imbalanced classification report\n",
    "print(classification_report_imbalanced(y_test, y_pred))"
   ]
  },
  {
   "cell_type": "markdown",
   "id": "d7ef0b7d",
   "metadata": {},
   "source": [
    "## More Machine Learning Models to Come"
   ]
  },
  {
   "cell_type": "code",
   "execution_count": null,
   "id": "e43294ea",
   "metadata": {},
   "outputs": [],
   "source": []
  },
  {
   "cell_type": "code",
   "execution_count": null,
   "id": "309836e2",
   "metadata": {},
   "outputs": [],
   "source": []
  },
  {
   "cell_type": "code",
   "execution_count": null,
   "id": "0b6ea0d4",
   "metadata": {},
   "outputs": [],
   "source": []
  }
 ],
 "metadata": {
  "kernelspec": {
   "display_name": "Python 3",
   "language": "python",
   "name": "python3"
  },
  "language_info": {
   "codemirror_mode": {
    "name": "ipython",
    "version": 3
   },
   "file_extension": ".py",
   "mimetype": "text/x-python",
   "name": "python",
   "nbconvert_exporter": "python",
   "pygments_lexer": "ipython3",
   "version": "3.8.8"
  }
 },
 "nbformat": 4,
 "nbformat_minor": 5
}
