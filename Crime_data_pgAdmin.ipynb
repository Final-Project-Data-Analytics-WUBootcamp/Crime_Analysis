{
  "nbformat": 4,
  "nbformat_minor": 0,
  "metadata": {
    "colab": {
      "name": "Crime_data_pgAdmin",
      "provenance": [],
      "collapsed_sections": []
    },
    "kernelspec": {
      "name": "python3",
      "display_name": "Python 3"
    },
    "language_info": {
      "name": "python"
    }
  },
  "cells": [
    {
      "cell_type": "code",
      "execution_count": 1,
      "metadata": {
        "colab": {
          "base_uri": "https://localhost:8080/"
        },
        "id": "2xPcO8-MQXVW",
        "outputId": "92f0119a-ae40-47ed-bc0a-03f8cd65a73c"
      },
      "outputs": [
        {
          "output_type": "stream",
          "name": "stdout",
          "text": [
            "\r0% [Working]\r            \rHit:1 https://cloud.r-project.org/bin/linux/ubuntu bionic-cran40/ InRelease\n",
            "\r0% [Connecting to archive.ubuntu.com (91.189.88.152)] [Connecting to security.u\r0% [1 InRelease gpgv 3,626 B] [Connecting to archive.ubuntu.com (91.189.88.152)\r                                                                               \rHit:2 http://security.ubuntu.com/ubuntu bionic-security InRelease\n",
            "\r0% [1 InRelease gpgv 3,626 B] [Waiting for headers] [Waiting for headers] [Wait\r                                                                               \rHit:3 http://ppa.launchpad.net/c2d4u.team/c2d4u4.0+/ubuntu bionic InRelease\n",
            "\r0% [1 InRelease gpgv 3,626 B] [Waiting for headers] [Connecting to ppa.launchpa\r                                                                               \rHit:4 http://archive.ubuntu.com/ubuntu bionic InRelease\n",
            "Hit:5 http://archive.ubuntu.com/ubuntu bionic-updates InRelease\n",
            "Hit:6 http://ppa.launchpad.net/cran/libgit2/ubuntu bionic InRelease\n",
            "Hit:7 http://archive.ubuntu.com/ubuntu bionic-backports InRelease\n",
            "Ign:8 https://developer.download.nvidia.com/compute/cuda/repos/ubuntu1804/x86_64  InRelease\n",
            "Hit:9 http://ppa.launchpad.net/deadsnakes/ppa/ubuntu bionic InRelease\n",
            "Ign:10 https://developer.download.nvidia.com/compute/machine-learning/repos/ubuntu1804/x86_64  InRelease\n",
            "Hit:11 https://developer.download.nvidia.com/compute/cuda/repos/ubuntu1804/x86_64  Release\n",
            "Hit:12 https://developer.download.nvidia.com/compute/machine-learning/repos/ubuntu1804/x86_64  Release\n",
            "Hit:13 http://ppa.launchpad.net/graphics-drivers/ppa/ubuntu bionic InRelease\n",
            "Reading package lists... Done\n"
          ]
        }
      ],
      "source": [
        "import os\n",
        "# Find the latest version of spark 3.0  from http://www.apache.org/dist/spark/ and enter as the spark version\n",
        "# For example:\n",
        "# spark_version = 'spark-3.0.3'\n",
        "spark_version = 'spark-3.0.3'\n",
        "os.environ['SPARK_VERSION']=spark_version\n",
        "\n",
        "# Install Spark and Java\n",
        "!apt-get update\n",
        "!apt-get install openjdk-11-jdk-headless -qq > /dev/null\n",
        "!wget -q http://www.apache.org/dist/spark/$SPARK_VERSION/$SPARK_VERSION-bin-hadoop2.7.tgz\n",
        "!tar xf $SPARK_VERSION-bin-hadoop2.7.tgz\n",
        "!pip install -q findspark\n",
        "\n",
        "# Set Environment Variables\n",
        "import os\n",
        "os.environ[\"JAVA_HOME\"] = \"/usr/lib/jvm/java-11-openjdk-amd64\"\n",
        "os.environ[\"SPARK_HOME\"] = f\"/content/{spark_version}-bin-hadoop2.7\"\n",
        "\n",
        "# Start a SparkSession\n",
        "import findspark\n",
        "findspark.init()"
      ]
    },
    {
      "cell_type": "code",
      "source": [
        "# Download the Postgres driver that will allow Spark to interact with Postgres.\n",
        "!wget https://jdbc.postgresql.org/download/postgresql-42.2.16.jar"
      ],
      "metadata": {
        "colab": {
          "base_uri": "https://localhost:8080/"
        },
        "id": "C9r2D4zxQvaf",
        "outputId": "df5bde1a-9bfb-4b71-d037-22bd3ae37ae5"
      },
      "execution_count": 2,
      "outputs": [
        {
          "output_type": "stream",
          "name": "stdout",
          "text": [
            "--2021-12-27 06:31:43--  https://jdbc.postgresql.org/download/postgresql-42.2.16.jar\n",
            "Resolving jdbc.postgresql.org (jdbc.postgresql.org)... 72.32.157.228, 2001:4800:3e1:1::228\n",
            "Connecting to jdbc.postgresql.org (jdbc.postgresql.org)|72.32.157.228|:443... connected.\n",
            "HTTP request sent, awaiting response... 200 OK\n",
            "Length: 1002883 (979K) [application/java-archive]\n",
            "Saving to: ‘postgresql-42.2.16.jar.5’\n",
            "\n",
            "postgresql-42.2.16. 100%[===================>] 979.38K  5.59MB/s    in 0.2s    \n",
            "\n",
            "2021-12-27 06:31:44 (5.59 MB/s) - ‘postgresql-42.2.16.jar.5’ saved [1002883/1002883]\n",
            "\n"
          ]
        }
      ]
    },
    {
      "cell_type": "code",
      "source": [
        "from pyspark.sql import SparkSession\n",
        "spark = SparkSession.builder.appName(\"Crime\").config(\"spark.driver.extraClassPath\",\"/content/postgresql-42.2.16.jar\").getOrCreate()"
      ],
      "metadata": {
        "id": "xZoqERz7Tl2r"
      },
      "execution_count": 3,
      "outputs": []
    },
    {
      "cell_type": "code",
      "source": [
        "# Read in data from S3 Buckets\n",
        "from pyspark import SparkFiles\n",
        "url =\"https://datacrime-bucket.s3.us-east-2.amazonaws.com/Texas_2020.csv\"\n",
        "spark.sparkContext.addFile(url)\n",
        "texas_2020_df = spark.read.csv(SparkFiles.get(\"Texas_2020.csv\"), sep=\",\", header=True, inferSchema=True)"
      ],
      "metadata": {
        "id": "2fR-sRLFTwKX"
      },
      "execution_count": 4,
      "outputs": []
    },
    {
      "cell_type": "code",
      "source": [
        "# Show DataFrame\n",
        "texas_2020_df.show()"
      ],
      "metadata": {
        "colab": {
          "base_uri": "https://localhost:8080/"
        },
        "id": "hOqt6aHxUT-I",
        "outputId": "4bf16239-3b85-4d66-a973-51a106cefadf"
      },
      "execution_count": 5,
      "outputs": [
        {
          "output_type": "stream",
          "name": "stdout",
          "text": [
            "+---------+-----------+-------------+-------------+-----------------+----------+---------------+--------------------+----------------+----------+------------------+---------------------+-----------+------------+--------------+-------------+---------------------+-------------+\n",
            "|AGENCY_ID|INCIDENT_ID|INCIDENT_DATE|INCIDENT_HOUR|CLEARED_EXCEPT_ID|OFFENSE_ID|OFFENSE_TYPE_ID|     PUB_AGENCY_NAME|AGENCY_TYPE_NAME|POPULATION|SUBURBAN_AREA_FLAG|POPULATION_GROUP_CODE|COUNTY_NAME|OFFENSE_CODE|  OFFENSE_NAME|CRIME_AGAINST|OFFENSE_CATEGORY_NAME|OFFENSE_GROUP|\n",
            "+---------+-----------+-------------+-------------+-----------------+----------+---------------+--------------------+----------------+----------+------------------+---------------------+-----------+------------+--------------+-------------+---------------------+-------------+\n",
            "|    29534|  133835511|     8-Dec-20|           11|                5| 161190322|             51|Independent Schoo...|           Other|         0|                 Y|                    7|      BEXAR|         13B|Simple Assault|       Person|     Assault Offenses|            A|\n",
            "|    29534|  133831060|     7-Dec-20|           16|                5| 161194775|             51|Independent Schoo...|           Other|         0|                 Y|                    7|      BEXAR|         13B|Simple Assault|       Person|     Assault Offenses|            A|\n",
            "|    29534|  123548684|     3-Mar-20|           16|                5| 149716714|             51|Independent Schoo...|           Other|         0|                 Y|                    7|      BEXAR|         13B|Simple Assault|       Person|     Assault Offenses|            A|\n",
            "|    29534|  123548754|     4-Mar-20|           15|                5| 149716774|             51|Independent Schoo...|           Other|         0|                 Y|                    7|      BEXAR|         13B|Simple Assault|       Person|     Assault Offenses|            A|\n",
            "|    29534|  123552261|     5-Mar-20|           16|                6| 149713571|             51|Independent Schoo...|           Other|         0|                 Y|                    7|      BEXAR|         13B|Simple Assault|       Person|     Assault Offenses|            A|\n",
            "|    29534|  120586453|     6-Jan-20|           14|                6| 146055838|             51|Independent Schoo...|           Other|         0|                 Y|                    7|      BEXAR|         13B|Simple Assault|       Person|     Assault Offenses|            A|\n",
            "|    29534|  123548740|     4-Mar-20|           13|                5| 149716760|             51|Independent Schoo...|           Other|         0|                 Y|                    7|      BEXAR|         13B|Simple Assault|       Person|     Assault Offenses|            A|\n",
            "|    29534|  123548843|     6-Mar-20|           19|                6| 149716869|             51|Independent Schoo...|           Other|         0|                 Y|                    7|      BEXAR|         13B|Simple Assault|       Person|     Assault Offenses|            A|\n",
            "|    29534|  123548809|     6-Mar-20|           11|                5| 149713607|             51|Independent Schoo...|           Other|         0|                 Y|                    7|      BEXAR|         13B|Simple Assault|       Person|     Assault Offenses|            A|\n",
            "|    29534|  123552301|     6-Mar-20|           14|                5| 149713629|             51|Independent Schoo...|           Other|         0|                 Y|                    7|      BEXAR|         13B|Simple Assault|       Person|     Assault Offenses|            A|\n",
            "|    29534|  123548838|     6-Mar-20|           18|                5| 149716864|             51|Independent Schoo...|           Other|         0|                 Y|                    7|      BEXAR|         13B|Simple Assault|       Person|     Assault Offenses|            A|\n",
            "|    29534|  123552154|     3-Mar-20|           15|                5| 149713439|             51|Independent Schoo...|           Other|         0|                 Y|                    7|      BEXAR|         13B|Simple Assault|       Person|     Assault Offenses|            A|\n",
            "|    29534|  123548733|     4-Mar-20|           12|                5| 149716755|             51|Independent Schoo...|           Other|         0|                 Y|                    7|      BEXAR|         13B|Simple Assault|       Person|     Assault Offenses|            A|\n",
            "|    29534|  130989367|     9-Oct-20|           10|                5| 157986779|             51|Independent Schoo...|           Other|         0|                 Y|                    7|      BEXAR|         13B|Simple Assault|       Person|     Assault Offenses|            A|\n",
            "|    29534|  120591486|     9-Jan-20|           13|                5| 146055934|             51|Independent Schoo...|           Other|         0|                 Y|                    7|      BEXAR|         13B|Simple Assault|       Person|     Assault Offenses|            A|\n",
            "|    29534|  120591505|    10-Jan-20|           17|                5| 146055959|             51|Independent Schoo...|           Other|         0|                 Y|                    7|      BEXAR|         13B|Simple Assault|       Person|     Assault Offenses|            A|\n",
            "|    29534|  120591560|    14-Jan-20|           16|                5| 146067127|             51|Independent Schoo...|           Other|         0|                 Y|                    7|      BEXAR|         13B|Simple Assault|       Person|     Assault Offenses|            A|\n",
            "|    29534|  120591607|    21-Jan-20|           13|                5| 146067186|             51|Independent Schoo...|           Other|         0|                 Y|                    7|      BEXAR|         13B|Simple Assault|       Person|     Assault Offenses|            A|\n",
            "|    29534|  120591610|    22-Jan-20|           10|                2| 146063290|             51|Independent Schoo...|           Other|         0|                 Y|                    7|      BEXAR|         13B|Simple Assault|       Person|     Assault Offenses|            A|\n",
            "|    29534|  120591633|    21-Jan-20|           14|                6| 146067209|             51|Independent Schoo...|           Other|         0|                 Y|                    7|      BEXAR|         13B|Simple Assault|       Person|     Assault Offenses|            A|\n",
            "+---------+-----------+-------------+-------------+-----------------+----------+---------------+--------------------+----------------+----------+------------------+---------------------+-----------+------------+--------------+-------------+---------------------+-------------+\n",
            "only showing top 20 rows\n",
            "\n"
          ]
        }
      ]
    },
    {
      "cell_type": "code",
      "source": [
        "url =\"https://datacrime-bucket.s3.us-east-2.amazonaws.com/Texas_2019.csv\"\n",
        "spark.sparkContext.addFile(url)\n",
        "texas_2019_df = spark.read.csv(SparkFiles.get(\"Texas_2019.csv\"), sep=\",\", header=True, inferSchema=True)\n",
        "\n",
        "# Show DataFrame\n",
        "texas_2019_df.show()"
      ],
      "metadata": {
        "colab": {
          "base_uri": "https://localhost:8080/"
        },
        "id": "OJYCsenKUcII",
        "outputId": "d8183621-0e09-4c87-c2cf-a048fbd486b1"
      },
      "execution_count": 6,
      "outputs": [
        {
          "output_type": "stream",
          "name": "stdout",
          "text": [
            "+---------+-----------+-------------+-------------+-----------------+----------+---------------+---------------+----------------+----------+------------------+---------------------+------------+------------+--------------------+-------------+---------------------+-------------+\n",
            "|AGENCY_ID|INCIDENT_ID|INCIDENT_DATE|INCIDENT_HOUR|CLEARED_EXCEPT_ID|OFFENSE_ID|OFFENSE_TYPE_ID|PUB_AGENCY_NAME|AGENCY_TYPE_NAME|POPULATION|SUBURBAN_AREA_FLAG|POPULATION_GROUP_CODE| COUNTY_NAME|OFFENSE_CODE|        OFFENSE_NAME|CRIME_AGAINST|OFFENSE_CATEGORY_NAME|OFFENSE_GROUP|\n",
            "+---------+-----------+-------------+-------------+-----------------+----------+---------------+---------------+----------------+----------+------------------+---------------------+------------+------------+--------------------+-------------+---------------------+-------------+\n",
            "|    19658|  111280682|    02-JAN-19|          8.0|                6| 136090264|              5|         Sinton|            City|      5373|                 Y|                    6|SAN PATRICIO|         290|Destruction/Damag...|     Property| Destruction/Damag...|            A|\n",
            "|    19658|  111280681|    14-JAN-19|         22.0|                6| 136093267|              5|         Sinton|            City|      5373|                 Y|                    6|SAN PATRICIO|         290|Destruction/Damag...|     Property| Destruction/Damag...|            A|\n",
            "|    19658|  111283231|    27-JAN-19|         21.0|                6| 136097614|              5|         Sinton|            City|      5373|                 Y|                    6|SAN PATRICIO|         290|Destruction/Damag...|     Property| Destruction/Damag...|            A|\n",
            "|    19658|  111283245|    08-MAR-19|         10.0|                6| 136090284|              5|         Sinton|            City|      5373|                 Y|                    6|SAN PATRICIO|         290|Destruction/Damag...|     Property| Destruction/Damag...|            A|\n",
            "|    19658|  111286449|    18-MAR-19|          9.0|                6| 136097630|              5|         Sinton|            City|      5373|                 Y|                    6|SAN PATRICIO|         290|Destruction/Damag...|     Property| Destruction/Damag...|            A|\n",
            "|    19658|  111283220|    11-JAN-19|         21.0|                6| 136097602|              5|         Sinton|            City|      5373|                 Y|                    6|SAN PATRICIO|         290|Destruction/Damag...|     Property| Destruction/Damag...|            A|\n",
            "|    19658|  111286443|    03-FEB-19|         11.0|                6| 136097620|              5|         Sinton|            City|      5373|                 Y|                    6|SAN PATRICIO|         290|Destruction/Damag...|     Property| Destruction/Damag...|            A|\n",
            "|    19658|  111286452|    21-MAR-19|         14.0|                6| 136090288|              5|         Sinton|            City|      5373|                 Y|                    6|SAN PATRICIO|         290|Destruction/Damag...|     Property| Destruction/Damag...|            A|\n",
            "|    19658|  111286437|    08-JAN-19|         17.0|                6| 136097607|              5|         Sinton|            City|      5373|                 Y|                    6|SAN PATRICIO|         290|Destruction/Damag...|     Property| Destruction/Damag...|            A|\n",
            "|    19658|  111280714|    17-MAR-19|         12.0|                6| 136097629|              5|         Sinton|            City|      5373|                 Y|                    6|SAN PATRICIO|         290|Destruction/Damag...|     Property| Destruction/Damag...|            A|\n",
            "|    19658|  111283235|    06-FEB-19|         17.0|                6| 136093282|              5|         Sinton|            City|      5373|                 Y|                    6|SAN PATRICIO|         290|Destruction/Damag...|     Property| Destruction/Damag...|            A|\n",
            "|    19658|  111286451|    06-MAR-19|         16.0|                6| 136090286|              5|         Sinton|            City|      5373|                 Y|                    6|SAN PATRICIO|         290|Destruction/Damag...|     Property| Destruction/Damag...|            A|\n",
            "|    19658|  111280690|    26-JAN-19|         11.0|                6| 136093278|              5|         Sinton|            City|      5373|                 Y|                    6|SAN PATRICIO|         290|Destruction/Damag...|     Property| Destruction/Damag...|            A|\n",
            "|    19658|  111286455|    28-MAR-19|         19.0|                6| 136093301|              5|         Sinton|            City|      5373|                 Y|                    6|SAN PATRICIO|         290|Destruction/Damag...|     Property| Destruction/Damag...|            A|\n",
            "|    19658|  111280686|    19-JAN-19|         12.0|                6| 136097605|              5|         Sinton|            City|      5373|                 Y|                    6|SAN PATRICIO|         290|Destruction/Damag...|     Property| Destruction/Damag...|            A|\n",
            "|    19658|  112978451|    16-JUN-19|         15.0|                6| 138035722|              5|         Sinton|            City|      5373|                 Y|                    6|SAN PATRICIO|         290|Destruction/Damag...|     Property| Destruction/Damag...|            A|\n",
            "|    19658|  112357941|    06-APR-19|          4.0|                6| 137332216|              5|         Sinton|            City|      5373|                 Y|                    6|SAN PATRICIO|         290|Destruction/Damag...|     Property| Destruction/Damag...|            A|\n",
            "|    19658|  112357963|    26-APR-19|         21.0|                6| 137332242|              5|         Sinton|            City|      5373|                 Y|                    6|SAN PATRICIO|         290|Destruction/Damag...|     Property| Destruction/Damag...|            A|\n",
            "|    19658|  112357976|    06-MAY-19|         20.0|                6| 137332256|              5|         Sinton|            City|      5373|                 Y|                    6|SAN PATRICIO|         290|Destruction/Damag...|     Property| Destruction/Damag...|            A|\n",
            "|    19658|  112357992|    18-MAY-19|          7.0|                6| 137332275|              5|         Sinton|            City|      5373|                 Y|                    6|SAN PATRICIO|         290|Destruction/Damag...|     Property| Destruction/Damag...|            A|\n",
            "+---------+-----------+-------------+-------------+-----------------+----------+---------------+---------------+----------------+----------+------------------+---------------------+------------+------------+--------------------+-------------+---------------------+-------------+\n",
            "only showing top 20 rows\n",
            "\n"
          ]
        }
      ]
    },
    {
      "cell_type": "code",
      "source": [
        "url =\"https://datacrime-bucket.s3.us-east-2.amazonaws.com/Texas_2018.csv\"\n",
        "spark.sparkContext.addFile(url)\n",
        "texas_2018_df = spark.read.csv(SparkFiles.get(\"Texas_2018.csv\"), sep=\",\", header=True, inferSchema=True)\n",
        "\n",
        "# Show DataFrame\n",
        "texas_2018_df.show()"
      ],
      "metadata": {
        "colab": {
          "base_uri": "https://localhost:8080/"
        },
        "id": "Uq0G2QfIVEh8",
        "outputId": "bc1396f1-bfc6-4a7a-b6dd-d068f3b56740"
      },
      "execution_count": 7,
      "outputs": [
        {
          "output_type": "stream",
          "name": "stdout",
          "text": [
            "+---------+-----------+-------------+-------------+-----------------+----------+---------------+---------------+----------------+----------+------------------+---------------------+--------------------+------------+--------------------+-------------+---------------------+-------------+\n",
            "|AGENCY_ID|INCIDENT_ID|INCIDENT_DATE|INCIDENT_HOUR|CLEARED_EXCEPT_ID|OFFENSE_ID|OFFENSE_TYPE_ID|PUB_AGENCY_NAME|AGENCY_TYPE_NAME|POPULATION|SUBURBAN_AREA_FLAG|POPULATION_GROUP_CODE|         COUNTY_NAME|OFFENSE_CODE|        OFFENSE_NAME|CRIME_AGAINST|OFFENSE_CATEGORY_NAME|OFFENSE_GROUP|\n",
            "+---------+-----------+-------------+-------------+-----------------+----------+---------------+---------------+----------------+----------+------------------+---------------------+--------------------+------------+--------------------+-------------+---------------------+-------------+\n",
            "|    19869|  111183863|    22-DEC-18|         12.0|                6| 135975594|             49|         Dallas|            City|   1362465|                 N|                   1A|ROCKWALL; DENTON;...|         220|Burglary/Breaking...|     Property| Burglary/Breaking...|            A|\n",
            "|    19869|  110945769|    29-DEC-18|         23.0|                6| 135721711|             49|         Dallas|            City|   1362465|                 N|                   1A|ROCKWALL; DENTON;...|         220|Burglary/Breaking...|     Property| Burglary/Breaking...|            A|\n",
            "|    19869|  110751604|    22-MAR-18|          0.0|                6| 135497258|             49|         Dallas|            City|   1362465|                 N|                   1A|ROCKWALL; DENTON;...|         220|Burglary/Breaking...|     Property| Burglary/Breaking...|            A|\n",
            "|    19869|  110612553|    07-OCT-18|          0.0|                6| 135349241|             49|         Dallas|            City|   1362465|                 N|                   1A|ROCKWALL; DENTON;...|         220|Burglary/Breaking...|     Property| Burglary/Breaking...|            A|\n",
            "|    19869|  110612560|    07-OCT-18|          4.0|                6| 135344803|             49|         Dallas|            City|   1362465|                 N|                   1A|ROCKWALL; DENTON;...|         220|Burglary/Breaking...|     Property| Burglary/Breaking...|            A|\n",
            "|    19869|  110616989|    05-OCT-18|         18.0|                6| 135349410|             49|         Dallas|            City|   1362465|                 N|                   1A|ROCKWALL; DENTON;...|         220|Burglary/Breaking...|     Property| Burglary/Breaking...|            A|\n",
            "|    19869|  110612699|    05-OCT-18|          4.0|                6| 135344969|             49|         Dallas|            City|   1362465|                 N|                   1A|ROCKWALL; DENTON;...|         220|Burglary/Breaking...|     Property| Burglary/Breaking...|            A|\n",
            "|    19869|  110612736|    09-OCT-18|          8.0|                6| 135351733|             49|         Dallas|            City|   1362465|                 N|                   1A|ROCKWALL; DENTON;...|         220|Burglary/Breaking...|     Property| Burglary/Breaking...|            A|\n",
            "|    19869|  110613188|    17-OCT-18|         19.0|                6| 135352400|             49|         Dallas|            City|   1362465|                 N|                   1A|ROCKWALL; DENTON;...|         220|Burglary/Breaking...|     Property| Burglary/Breaking...|            A|\n",
            "|    19869|  110613203|    18-OCT-18|          9.0|                6| 135352422|             49|         Dallas|            City|   1362465|                 N|                   1A|ROCKWALL; DENTON;...|         220|Burglary/Breaking...|     Property| Burglary/Breaking...|            A|\n",
            "|    19869|  110613237|    18-OCT-18|         18.0|                6| 135350286|             49|         Dallas|            City|   1362465|                 N|                   1A|ROCKWALL; DENTON;...|         220|Burglary/Breaking...|     Property| Burglary/Breaking...|            A|\n",
            "|    19869|  110617881|    17-OCT-18|         10.0|                6| 135345574|             49|         Dallas|            City|   1362465|                 N|                   1A|ROCKWALL; DENTON;...|         220|Burglary/Breaking...|     Property| Burglary/Breaking...|            A|\n",
            "|    19869|  110613286|    17-SEP-18|         12.0|                6| 135350350|             49|         Dallas|            City|   1362465|                 N|                   1A|ROCKWALL; DENTON;...|         220|Burglary/Breaking...|     Property| Burglary/Breaking...|            A|\n",
            "|    19869|  111169247|    29-OCT-18|          8.0|                6| 135968184|             49|         Dallas|            City|   1362465|                 N|                   1A|ROCKWALL; DENTON;...|         220|Burglary/Breaking...|     Property| Burglary/Breaking...|            A|\n",
            "|    19869|  111169260|    01-NOV-18|          9.0|                6| 135968197|             49|         Dallas|            City|   1362465|                 N|                   1A|ROCKWALL; DENTON;...|         220|Burglary/Breaking...|     Property| Burglary/Breaking...|            A|\n",
            "|    19869|  111169287|    08-NOV-18|          9.0|                6| 135968229|             49|         Dallas|            City|   1362465|                 N|                   1A|ROCKWALL; DENTON;...|         220|Burglary/Breaking...|     Property| Burglary/Breaking...|            A|\n",
            "|    19869|  111169295|    01-NOV-18|         16.0|                6| 135968241|             49|         Dallas|            City|   1362465|                 N|                   1A|ROCKWALL; DENTON;...|         220|Burglary/Breaking...|     Property| Burglary/Breaking...|            A|\n",
            "|    19869|  111169296|    11-NOV-18|         22.0|                6| 135972433|             49|         Dallas|            City|   1362465|                 N|                   1A|ROCKWALL; DENTON;...|         220|Burglary/Breaking...|     Property| Burglary/Breaking...|            A|\n",
            "|    19869|  110617074|    05-OCT-18|         15.0|                6| 135349494|             49|         Dallas|            City|   1362465|                 N|                   1A|ROCKWALL; DENTON;...|         220|Burglary/Breaking...|     Property| Burglary/Breaking...|            A|\n",
            "|    19869|  110612826|    28-SEP-18|         12.0|                6| 135349632|             49|         Dallas|            City|   1362465|                 N|                   1A|ROCKWALL; DENTON;...|         220|Burglary/Breaking...|     Property| Burglary/Breaking...|            A|\n",
            "+---------+-----------+-------------+-------------+-----------------+----------+---------------+---------------+----------------+----------+------------------+---------------------+--------------------+------------+--------------------+-------------+---------------------+-------------+\n",
            "only showing top 20 rows\n",
            "\n"
          ]
        }
      ]
    },
    {
      "cell_type": "code",
      "source": [
        "url =\"https://datacrime-bucket.s3.us-east-2.amazonaws.com/Texas_2017.csv\"\n",
        "spark.sparkContext.addFile(url)\n",
        "texas_2017_df = spark.read.csv(SparkFiles.get(\"Texas_2017.csv\"), sep=\",\", header=True, inferSchema=True)\n",
        "\n",
        "# Show DataFrame\n",
        "texas_2017_df.show()"
      ],
      "metadata": {
        "colab": {
          "base_uri": "https://localhost:8080/"
        },
        "id": "P4S-SGCdVMr3",
        "outputId": "d3cd07fe-1566-4c53-f664-1be4ce637845"
      },
      "execution_count": 8,
      "outputs": [
        {
          "output_type": "stream",
          "name": "stdout",
          "text": [
            "+---------+-----------+-------------+-------------+-----------------+----------+---------------+---------------+----------------+----------+------------------+---------------------+-------------+------------+--------------------+-------------+---------------------+-------------+\n",
            "|AGENCY_ID|INCIDENT_ID|INCIDENT_DATE|INCIDENT_HOUR|CLEARED_EXCEPT_ID|OFFENSE_ID|OFFENSE_TYPE_ID|PUB_AGENCY_NAME|AGENCY_TYPE_NAME|POPULATION|SUBURBAN_AREA_FLAG|POPULATION_GROUP_CODE|  COUNTY_NAME|OFFENSE_CODE|        OFFENSE_NAME|CRIME_AGAINST|OFFENSE_CATEGORY_NAME|OFFENSE_GROUP|\n",
            "+---------+-----------+-------------+-------------+-----------------+----------+---------------+---------------+----------------+----------+------------------+---------------------+-------------+------------+--------------------+-------------+---------------------+-------------+\n",
            "|    19607|   91852190|    04-SEP-17|         15.0|                6| 114121913|             16|       Corrigan|            City|      1586|                 N|                    7|         POLK|         35A|Drug/Narcotic Vio...|      Society| Drug/Narcotic Off...|            A|\n",
            "|    19607|   91852201|    24-OCT-17|          2.0|                6| 114121917|             16|       Corrigan|            City|      1586|                 N|                    7|         POLK|         35A|Drug/Narcotic Vio...|      Society| Drug/Narcotic Off...|            A|\n",
            "|    19607|   91852200|    03-NOV-17|         13.0|                6| 114121924|             16|       Corrigan|            City|      1586|                 N|                    7|         POLK|         35A|Drug/Narcotic Vio...|      Society| Drug/Narcotic Off...|            A|\n",
            "|    19607|   91852192|    28-OCT-17|          1.0|                6| 114121914|             16|       Corrigan|            City|      1586|                 N|                    7|         POLK|         35A|Drug/Narcotic Vio...|      Society| Drug/Narcotic Off...|            A|\n",
            "|    19607|   91852206|    19-NOV-17|          3.0|                6| 114121930|             16|       Corrigan|            City|      1586|                 N|                    7|         POLK|         35A|Drug/Narcotic Vio...|      Society| Drug/Narcotic Off...|            A|\n",
            "|    19607|   91852183|    19-SEP-17|         13.0|                6| 114121903|             16|       Corrigan|            City|      1586|                 N|                    7|         POLK|         35A|Drug/Narcotic Vio...|      Society| Drug/Narcotic Off...|            A|\n",
            "|    19607|   91852186|    12-SEP-17|         23.0|                6| 114121907|             16|       Corrigan|            City|      1586|                 N|                    7|         POLK|         35A|Drug/Narcotic Vio...|      Society| Drug/Narcotic Off...|            A|\n",
            "|    19607|   91852175|    26-AUG-17|          2.0|                6| 114121896|             16|       Corrigan|            City|      1586|                 N|                    7|         POLK|         35A|Drug/Narcotic Vio...|      Society| Drug/Narcotic Off...|            A|\n",
            "|    19607|   91852202|    26-OCT-17|         19.0|                6| 114121920|             16|       Corrigan|            City|      1586|                 N|                    7|         POLK|         35A|Drug/Narcotic Vio...|      Society| Drug/Narcotic Off...|            A|\n",
            "|    19607|   91852199|    27-OCT-17|          4.0|                6| 114121915|             16|       Corrigan|            City|      1586|                 N|                    7|         POLK|         35A|Drug/Narcotic Vio...|      Society| Drug/Narcotic Off...|            A|\n",
            "|    19607|   96616860|    05-OCT-17|         23.0|                6| 119546291|             16|       Corrigan|            City|      1586|                 N|                    7|         POLK|         35A|Drug/Narcotic Vio...|      Society| Drug/Narcotic Off...|            A|\n",
            "|    19607|   96616876|    17-NOV-17|         16.0|                6| 119546310|             16|       Corrigan|            City|      1586|                 N|                    7|         POLK|         35A|Drug/Narcotic Vio...|      Society| Drug/Narcotic Off...|            A|\n",
            "|    19607|   96527299|    26-NOV-17|         21.0|                6| 119447744|             16|       Corrigan|            City|      1586|                 N|                    7|         POLK|         35A|Drug/Narcotic Vio...|      Society| Drug/Narcotic Off...|            A|\n",
            "|    19607|   96616887|    17-NOV-17|         22.0|                6| 119546324|             16|       Corrigan|            City|      1586|                 N|                    7|         POLK|         35A|Drug/Narcotic Vio...|      Society| Drug/Narcotic Off...|            A|\n",
            "|    19607|   96616851|    21-SEP-17|          0.0|                6| 119546281|             16|       Corrigan|            City|      1586|                 N|                    7|         POLK|         35A|Drug/Narcotic Vio...|      Society| Drug/Narcotic Off...|            A|\n",
            "|    19607|   96616848|    07-SEP-17|         20.0|                6| 119546269|             16|       Corrigan|            City|      1586|                 N|                    7|         POLK|         35A|Drug/Narcotic Vio...|      Society| Drug/Narcotic Off...|            A|\n",
            "|    19607|   96616878|    05-NOV-17|         21.0|                6| 119546314|             16|       Corrigan|            City|      1586|                 N|                    7|         POLK|         35A|Drug/Narcotic Vio...|      Society| Drug/Narcotic Off...|            A|\n",
            "|    25770|   91926807|    18-JAN-17|         20.0|                6| 114203311|             16|      Normangee|            City|       704|                 N|                    7|MADISON; LEON|         35A|Drug/Narcotic Vio...|      Society| Drug/Narcotic Off...|            A|\n",
            "|    25770|   91926793|    27-JAN-17|         19.0|                6| 114203307|             16|      Normangee|            City|       704|                 N|                    7|MADISON; LEON|         35A|Drug/Narcotic Vio...|      Society| Drug/Narcotic Off...|            A|\n",
            "|    19763|   92022866|    26-FEB-17|         22.0|                6| 114309410|             16|  Sunset Valley|            City|       704|                 Y|                    7|       TRAVIS|         35A|Drug/Narcotic Vio...|      Society| Drug/Narcotic Off...|            A|\n",
            "+---------+-----------+-------------+-------------+-----------------+----------+---------------+---------------+----------------+----------+------------------+---------------------+-------------+------------+--------------------+-------------+---------------------+-------------+\n",
            "only showing top 20 rows\n",
            "\n"
          ]
        }
      ]
    },
    {
      "cell_type": "code",
      "source": [
        "# Store environmental variable\n",
        "from getpass import getpass\n",
        "password = getpass('Enter database password')\n"
      ],
      "metadata": {
        "colab": {
          "base_uri": "https://localhost:8080/"
        },
        "id": "21kd1oCLVsTC",
        "outputId": "c480755d-55c8-49cf-97a7-54b037932ab1"
      },
      "execution_count": 12,
      "outputs": [
        {
          "name": "stdout",
          "output_type": "stream",
          "text": [
            "Enter database password··········\n"
          ]
        }
      ]
    },
    {
      "cell_type": "code",
      "source": [
        "# Configure settings for RDS\n",
        "mode = \"append\"\n",
        "jdbc_url=\"jdbc:postgresql://database-crime.czbxze2tryse.us-east-2.rds.amazonaws.com:5432/database-crime\"\n",
        "config = {\"user\":\"postgres\",\n",
        "          \"password\": \"bootcamp10\",\n",
        "          \"driver\":\"org.postgresql.Driver\"}"
      ],
      "metadata": {
        "id": "Tpn1616jlTYB"
      },
      "execution_count": 15,
      "outputs": []
    },
    {
      "cell_type": "code",
      "source": [
        "# Write DataFrame to texas_2020 table in RDS\n",
        "texas_2020_df.write.jdbc(url=jdbc_url, table='texas_2020', mode=mode, properties=config)"
      ],
      "metadata": {
        "id": "gIhPY3w6a0a4"
      },
      "execution_count": 16,
      "outputs": []
    },
    {
      "cell_type": "code",
      "source": [
        "# Write DataFrame to texas_2019 table in RDS\n",
        "texas_2019_df.write.jdbc(url=jdbc_url, table='texas_2019', mode=mode, properties=config)"
      ],
      "metadata": {
        "id": "bvY30Mslbgis"
      },
      "execution_count": 17,
      "outputs": []
    },
    {
      "cell_type": "code",
      "source": [
        "# Write DataFrame to texas_2018 table in RDS\n",
        "texas_2018_df.write.jdbc(url=jdbc_url, table='texas_2018', mode=mode, properties=config)"
      ],
      "metadata": {
        "id": "F8ciZRqtbkI-"
      },
      "execution_count": 18,
      "outputs": []
    },
    {
      "cell_type": "code",
      "source": [
        "# Write DataFrame to texas_2017 table in RDS\n",
        "texas_2017_df.write.jdbc(url=jdbc_url, table='texas_2017', mode=mode, properties=config)"
      ],
      "metadata": {
        "id": "Phun3hS8bml_"
      },
      "execution_count": 19,
      "outputs": []
    }
  ]
}